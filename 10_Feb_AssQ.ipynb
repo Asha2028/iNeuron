{
 "cells": [
  {
   "cell_type": "raw",
   "id": "b7bf86ca",
   "metadata": {},
   "source": [
    "Q1. Which function is used to open a file? What are the different modes of opening a file? Explain each mode of file opening."
   ]
  },
  {
   "cell_type": "raw",
   "id": "b9becb6c",
   "metadata": {},
   "source": [
    "Ans:\n",
    "    In Python, open() method is used to open files. The different modes of opening a file are as follows:\n",
    "        \"r\" : Opens a file for reading\n",
    "        \"w\" : Open a file for writing. Creates a new file if it doesn't exists or truncates the file if it exists\n",
    "        \"x\" : Open a file for exclusive creation. If the file already exists, the operation fails.\n",
    "        \"a\" : Open a file for appen ding at the end of the file without truncating it. Creates a new file if it does not exist.\n",
    "        \"t\" : Open in text mode\n",
    "        \"b\" : Open in binary mode\n",
    "        \"+\" : Open a file for updating(reading or writing)"
   ]
  },
  {
   "cell_type": "raw",
   "id": "42a6b4e5",
   "metadata": {},
   "source": [
    "Q2. Why close() function is used? Why is it important to close a file?"
   ]
  },
  {
   "cell_type": "raw",
   "id": "7bc15555",
   "metadata": {},
   "source": [
    "Ans: \n",
    "    After read or write function, we need to close the file using close() method to save the resources that are tied with the file."
   ]
  },
  {
   "cell_type": "raw",
   "id": "a8f645cc",
   "metadata": {},
   "source": [
    "Q3. Write a python program to create a text file. Write ‘I want to become a Data Scientist’ in that file. Then close the file. Open this file and read the content of the file."
   ]
  },
  {
   "cell_type": "code",
   "execution_count": 3,
   "id": "d32176a0",
   "metadata": {},
   "outputs": [
    {
     "name": "stdout",
     "output_type": "stream",
     "text": [
      "02_Feb_AssQ.ipynb                 07_Feb_Assignment_DSM.ipynb\r\n",
      "03_Feb_AssQ.ipynb                 09_Feb_AssQ.ipynb\r\n",
      "04_Feb_AssQ.ipynb                 10_Feb_AssQ.ipynb\r\n",
      "05_Feb_AssQ.ipynb                 29th_Jan_Python_Assignment.ipynb\r\n",
      "06_Feb_AssQ.ipynb                 30th_Jan_Assignment.ipynb\r\n"
     ]
    }
   ],
   "source": [
    "ls"
   ]
  },
  {
   "cell_type": "code",
   "execution_count": 7,
   "id": "f408be09",
   "metadata": {},
   "outputs": [],
   "source": [
    "file = open(\"test.txt\",\"w\")\n",
    "file.write(\"I want to become a Data Scientist\")\n",
    "file.close()"
   ]
  },
  {
   "cell_type": "code",
   "execution_count": 8,
   "id": "a36bc1a5",
   "metadata": {},
   "outputs": [
    {
     "name": "stdout",
     "output_type": "stream",
     "text": [
      "02_Feb_AssQ.ipynb                 09_Feb_AssQ.ipynb\r\n",
      "03_Feb_AssQ.ipynb                 10_Feb_AssQ.ipynb\r\n",
      "04_Feb_AssQ.ipynb                 29th_Jan_Python_Assignment.ipynb\r\n",
      "05_Feb_AssQ.ipynb                 30th_Jan_Assignment.ipynb\r\n",
      "06_Feb_AssQ.ipynb                 test.txt\r\n",
      "07_Feb_Assignment_DSM.ipynb\r\n"
     ]
    }
   ],
   "source": [
    "ls"
   ]
  },
  {
   "cell_type": "code",
   "execution_count": 12,
   "id": "ca20beea",
   "metadata": {},
   "outputs": [
    {
     "data": {
      "text/plain": [
       "'I want to become a Data Scientist'"
      ]
     },
     "execution_count": 12,
     "metadata": {},
     "output_type": "execute_result"
    }
   ],
   "source": [
    "file = open(\"test.txt\",\"r\")\n",
    "file.read()"
   ]
  },
  {
   "cell_type": "raw",
   "id": "06149073",
   "metadata": {},
   "source": [
    "Q4. Explain the following with python code: read(), readline() and readlines()."
   ]
  },
  {
   "cell_type": "raw",
   "id": "89d7f3f7",
   "metadata": {},
   "source": [
    "Ans:\n",
    "    read() : The read method reads the entire contents of a file and returns it as a string.\n",
    "    \n",
    "Pros:\n",
    "    Simple and straightforward to use\n",
    "    Good for reading small lines\n",
    "    \n",
    "Cons:\n",
    "    Can consume lot of memory if the file is large\n",
    "    The entire contents of the file must be stored in memory, which can lead to performance issues."
   ]
  },
  {
   "cell_type": "code",
   "execution_count": 13,
   "id": "f5b66445",
   "metadata": {},
   "outputs": [
    {
     "name": "stdout",
     "output_type": "stream",
     "text": [
      "I want to become a Data Scientist\n"
     ]
    }
   ],
   "source": [
    "with open(\"test.txt\",\"r\") as file:\n",
    "    print(file.read())"
   ]
  },
  {
   "cell_type": "raw",
   "id": "5f0fd540",
   "metadata": {},
   "source": [
    "readline() :The readline method reads a single line from a file and returns it as a string. This means that if you use readline, you can read the contents of a file line by line, which can be useful for processing large files that do not fit in memory.\n",
    "    "
   ]
  },
  {
   "cell_type": "code",
   "execution_count": 14,
   "id": "3127ba33",
   "metadata": {},
   "outputs": [
    {
     "name": "stdout",
     "output_type": "stream",
     "text": [
      "I want to become a Data Scientist\n",
      "I want to become a Data Scientist\n",
      "I want to become a Data Scientist\n",
      "I want to become a Data Scientist\n"
     ]
    }
   ],
   "source": [
    "with open(\"test.txt\",\"r\") as file:\n",
    "    line = file.readline()\n",
    "    while line:\n",
    "        print(line.strip())\n",
    "        line = file.readline()"
   ]
  },
  {
   "cell_type": "raw",
   "id": "b3bdd964",
   "metadata": {},
   "source": [
    "In the above example, the while loop continues to read lines from the file until readline returns an empty string, indicating the end of the file. The strip method is used to remove the line terminator from each line.\n",
    "\n",
    "Pros:\n",
    "    Good for processing large files that do not fit in memory\n",
    "    Reads the file line by line reducing the memory usage\n",
    "    \n",
    "Cons:\n",
    "    More complicated to use than read.\n",
    "    Not as efficient for reading small files."
   ]
  },
  {
   "cell_type": "raw",
   "id": "7b8d161a",
   "metadata": {},
   "source": [
    "readlines() : The readline method reads a single line from a file and returns it as a string, while the readlines method reads the entire contents of a file and returns it as a list of strings, where each element of the list is a single line of the file."
   ]
  },
  {
   "cell_type": "code",
   "execution_count": 16,
   "id": "e535287e",
   "metadata": {},
   "outputs": [
    {
     "name": "stdout",
     "output_type": "stream",
     "text": [
      "['I want to become a Data Scientist\\n', 'I want to become a Data Scientist\\n', 'I want to become a Data Scientist\\n', 'I want to become a Data Scientist']\n"
     ]
    }
   ],
   "source": [
    "with open(\"test.txt\",\"r\") as file:\n",
    "    lines = file.readlines()\n",
    "    print(lines)"
   ]
  },
  {
   "cell_type": "raw",
   "id": "3bb0b27a",
   "metadata": {},
   "source": [
    "Python readlines reads the whole file into memory, which can be problematic if the file is very large. In such cases, it's usually better to use readline and process the file one line at a time. If you want to remove the line terminator characters (\\n or \\r\\n) from each line, you can use the strip method:"
   ]
  },
  {
   "cell_type": "code",
   "execution_count": 17,
   "id": "78c97539",
   "metadata": {},
   "outputs": [
    {
     "name": "stdout",
     "output_type": "stream",
     "text": [
      "I want to become a Data Scientist\n",
      "I want to become a Data Scientist\n",
      "I want to become a Data Scientist\n",
      "I want to become a Data Scientist\n"
     ]
    }
   ],
   "source": [
    "with open(\"test.txt\",\"r\") as file:\n",
    "    lines = file.readlines()\n",
    "    for l in lines:\n",
    "        print(l.strip())"
   ]
  },
  {
   "cell_type": "raw",
   "id": "11f34232",
   "metadata": {},
   "source": [
    "Pros:\n",
    "    Good for reading small files.\n",
    "    Returns the contents of the files as list of strings, which makes it easy to work with the file's contents.\n",
    "    \n",
    "Cons:\n",
    "    Can consume lot of memory if the file is large.\n",
    "    The entire contents of the file must be stored in memory, which can lead to performance issues.\n",
    "    "
   ]
  },
  {
   "cell_type": "raw",
   "id": "15c399bd",
   "metadata": {},
   "source": [
    "Q5. Explain why with statement is used with open(). What is the advantage of using with statement and\n",
    "open() together?"
   ]
  },
  {
   "cell_type": "raw",
   "id": "12f0f92e",
   "metadata": {},
   "source": [
    "Ans:\n",
    "    In python, with statement is used in exception handling to make the code cleaner and much more readble."
   ]
  },
  {
   "cell_type": "code",
   "execution_count": 31,
   "id": "ff322134",
   "metadata": {},
   "outputs": [],
   "source": [
    "#Example 1\n",
    "\n",
    "file = open(\"test1.txt\", 'w')\n",
    "file.write(\"Hello PWskills\")\n",
    "file.close()\n",
    "\n"
   ]
  },
  {
   "cell_type": "code",
   "execution_count": 27,
   "id": "32131705",
   "metadata": {},
   "outputs": [
    {
     "data": {
      "text/plain": [
       "'Hello PWskills'"
      ]
     },
     "execution_count": 27,
     "metadata": {},
     "output_type": "execute_result"
    }
   ],
   "source": [
    "file = open(\"test1.txt\", 'r')\n",
    "file.read()\n",
    "\n"
   ]
  },
  {
   "cell_type": "code",
   "execution_count": 28,
   "id": "f99b0c80",
   "metadata": {},
   "outputs": [],
   "source": [
    "file.close()"
   ]
  },
  {
   "cell_type": "code",
   "execution_count": 32,
   "id": "b8b777f8",
   "metadata": {},
   "outputs": [],
   "source": [
    "#Example 2\n",
    "\n",
    "file = open(\"test2.txt\",'w')\n",
    "try:\n",
    "    file.write(\"Data science masters\")\n",
    "finally:\n",
    "    file.close()"
   ]
  },
  {
   "cell_type": "code",
   "execution_count": 34,
   "id": "1ec591d8",
   "metadata": {},
   "outputs": [
    {
     "name": "stdout",
     "output_type": "stream",
     "text": [
      "Hello PWskills\n"
     ]
    }
   ],
   "source": [
    "#Example 3 - using with statement\n",
    "with open('test1.txt','r') as f:\n",
    "    file = f.read()\n",
    "    print(file)"
   ]
  },
  {
   "cell_type": "raw",
   "id": "2f78f645",
   "metadata": {},
   "source": [
    "Therefore, using with statement unlike the first two implementations, there is no need to call file.close() method. The with statement itself ensures proper acquisition and release of resources. \n",
    "\n",
    "The with statement helps avoiding bugs and leaks by ensuring that a resource is properly released when the code using the resource is completely executed.\n",
    "\n",
    "The with statement is properly used with file streams, as shown in the above examples and with locks, sockets, subprocesses and telnets etc"
   ]
  },
  {
   "cell_type": "raw",
   "id": "bf09c9ee",
   "metadata": {},
   "source": [
    "Q6. Explain the write() and writelines() functions. Give a suitable example."
   ]
  },
  {
   "cell_type": "raw",
   "id": "ed763b0d",
   "metadata": {},
   "source": [
    "Ans:\n",
    "    write() function: The write() function will write the content in the file without adding any extra characters.\n",
    "Syntax():\n",
    "    writelines() function: This function writes the content of a list to a file."
   ]
  },
  {
   "cell_type": "code",
   "execution_count": 36,
   "id": "e640a854",
   "metadata": {},
   "outputs": [
    {
     "name": "stdout",
     "output_type": "stream",
     "text": [
      "Enter the name of the employee: Employee1\n",
      "Enter the name of the employee: Employee2\n",
      "Enter the name of the employee: Employee3\n",
      "Data is written into the file.\n"
     ]
    }
   ],
   "source": [
    "#Example - write()\n",
    "\n",
    "file = open(\"test1.txt\",'w')\n",
    "\n",
    "for i in range(3):\n",
    "    name = input(\"Enter the name of the employee: \")\n",
    "    file.write(name)\n",
    "    file.write(\"\\n\")\n",
    "    \n",
    "file.close()\n",
    "\n",
    "print(\"Data is written into the file.\")"
   ]
  },
  {
   "cell_type": "code",
   "execution_count": 37,
   "id": "83a823fa",
   "metadata": {},
   "outputs": [
    {
     "name": "stdout",
     "output_type": "stream",
     "text": [
      "Enter the name of the employee: Employee1\n",
      "Enter the name of the employee: employee2\n",
      "Enter the name of the employee: employee3\n",
      "Data is written into the file.\n"
     ]
    }
   ],
   "source": [
    "#Example - writelines()\n",
    "\n",
    "file = open(\"test2.txt\",'w')\n",
    "lst = []\n",
    "for i in range(3):\n",
    "    name = input(\"Enter the name of the employee: \")\n",
    "    lst.append(name+'\\n')\n",
    "    \n",
    "file.writelines(lst)\n",
    "file.close()\n",
    "print(\"Data is written into the file.\")"
   ]
  },
  {
   "cell_type": "raw",
   "id": "1b7f1b29",
   "metadata": {},
   "source": [
    "The only difference between the write() and writelines() is that write() is used to write a string to an already opened file while writelines() method is used to write a list of strings in an opened file."
   ]
  },
  {
   "cell_type": "code",
   "execution_count": null,
   "id": "9f10936a",
   "metadata": {},
   "outputs": [],
   "source": []
  }
 ],
 "metadata": {
  "kernelspec": {
   "display_name": "Python 3 (ipykernel)",
   "language": "python",
   "name": "python3"
  },
  "language_info": {
   "codemirror_mode": {
    "name": "ipython",
    "version": 3
   },
   "file_extension": ".py",
   "mimetype": "text/x-python",
   "name": "python",
   "nbconvert_exporter": "python",
   "pygments_lexer": "ipython3",
   "version": "3.9.13"
  }
 },
 "nbformat": 4,
 "nbformat_minor": 5
}
